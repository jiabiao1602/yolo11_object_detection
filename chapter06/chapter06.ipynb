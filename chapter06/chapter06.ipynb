{
 "cells": [
  {
   "cell_type": "code",
   "execution_count": 3,
   "id": "8c034d64-ca60-4fad-a1c3-8e7d54673e47",
   "metadata": {},
   "outputs": [
    {
     "name": "stdout",
     "output_type": "stream",
     "text": [
      "\n",
      "image 1/1 F:\\YOLO11\\chapter06\\images\\bee.jpg: 384x640 (no detections), 1902.2ms\n",
      "Speed: 118.4ms preprocess, 1902.2ms inference, 235.6ms postprocess per image at shape (1, 3, 384, 640)\n",
      "Results saved to \u001b[1mruns\\detect\\predict\u001b[0m\n",
      "0 label saved to runs\\detect\\predict\\labels\n"
     ]
    }
   ],
   "source": [
    "# 使用预训练模型进行目标检测\n",
    "from ultralytics import YOLO\n",
    "model = YOLO(\"./weights/yolo11n.pt\")\n",
    "results = model.predict(source='./images/bee.jpg', save=True, save_txt=True)"
   ]
  },
  {
   "cell_type": "code",
   "execution_count": 4,
   "id": "e9962fd0-c3b8-404e-8faa-eeae40210868",
   "metadata": {},
   "outputs": [
    {
     "name": "stdout",
     "output_type": "stream",
     "text": [
      "{0: 'person', 1: 'bicycle', 2: 'car', 3: 'motorcycle', 4: 'airplane', 5: 'bus', 6: 'train', 7: 'truck', 8: 'boat', 9: 'traffic light', 10: 'fire hydrant', 11: 'stop sign', 12: 'parking meter', 13: 'bench', 14: 'bird', 15: 'cat', 16: 'dog', 17: 'horse', 18: 'sheep', 19: 'cow', 20: 'elephant', 21: 'bear', 22: 'zebra', 23: 'giraffe', 24: 'backpack', 25: 'umbrella', 26: 'handbag', 27: 'tie', 28: 'suitcase', 29: 'frisbee', 30: 'skis', 31: 'snowboard', 32: 'sports ball', 33: 'kite', 34: 'baseball bat', 35: 'baseball glove', 36: 'skateboard', 37: 'surfboard', 38: 'tennis racket', 39: 'bottle', 40: 'wine glass', 41: 'cup', 42: 'fork', 43: 'knife', 44: 'spoon', 45: 'bowl', 46: 'banana', 47: 'apple', 48: 'sandwich', 49: 'orange', 50: 'broccoli', 51: 'carrot', 52: 'hot dog', 53: 'pizza', 54: 'donut', 55: 'cake', 56: 'chair', 57: 'couch', 58: 'potted plant', 59: 'bed', 60: 'dining table', 61: 'toilet', 62: 'tv', 63: 'laptop', 64: 'mouse', 65: 'remote', 66: 'keyboard', 67: 'cell phone', 68: 'microwave', 69: 'oven', 70: 'toaster', 71: 'sink', 72: 'refrigerator', 73: 'book', 74: 'clock', 75: 'vase', 76: 'scissors', 77: 'teddy bear', 78: 'hair drier', 79: 'toothbrush'}\n"
     ]
    }
   ],
   "source": [
    "# 查看模型的类别\n",
    "print(model.model.names)"
   ]
  },
  {
   "cell_type": "code",
   "execution_count": 5,
   "id": "87e9dd0a-f255-4953-97b5-fdc6895aa31d",
   "metadata": {},
   "outputs": [
    {
     "name": "stdout",
     "output_type": "stream",
     "text": [
      "\n",
      "image 1/1 F:\\YOLO11\\chapter06\\images\\bee.jpg: 384x640 1 bees, 238.4ms\n",
      "Speed: 3.0ms preprocess, 238.4ms inference, 240.5ms postprocess per image at shape (1, 3, 384, 640)\n",
      "Results saved to \u001b[1mruns\\detect\\predict2\u001b[0m\n",
      "1 label saved to runs\\detect\\predict2\\labels\n"
     ]
    }
   ],
   "source": [
    "# 使用训练过的最好模型进行目标检测\n",
    "from ultralytics import YOLO\n",
    "model = YOLO(\"./weights/best.pt\")\n",
    "results = model.predict(source='./images/bee.jpg', save=True, save_txt=True)"
   ]
  },
  {
   "cell_type": "code",
   "execution_count": null,
   "id": "54230022-b23f-4480-9731-219b04f2d6f0",
   "metadata": {},
   "outputs": [],
   "source": []
  },
  {
   "cell_type": "code",
   "execution_count": null,
   "id": "a3d28e37-706a-4dcc-82b6-641ef06edd71",
   "metadata": {},
   "outputs": [],
   "source": []
  }
 ],
 "metadata": {
  "kernelspec": {
   "display_name": "yolo11",
   "language": "python",
   "name": "yolo11"
  },
  "language_info": {
   "codemirror_mode": {
    "name": "ipython",
    "version": 3
   },
   "file_extension": ".py",
   "mimetype": "text/x-python",
   "name": "python",
   "nbconvert_exporter": "python",
   "pygments_lexer": "ipython3",
   "version": "3.10.16"
  }
 },
 "nbformat": 4,
 "nbformat_minor": 5
}
